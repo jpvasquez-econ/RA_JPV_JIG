{
 "cells": [
  {
   "cell_type": "markdown",
   "metadata": {},
   "source": [
    "# Automatization tool for event-study coefficients plots"
   ]
  },
  {
   "cell_type": "markdown",
   "metadata": {},
   "source": [
    "There are at least three ways to approach this task. The first one is to use the python package named *tikzplotlib*, which allows you to export a *matplotlib* plot to a .tex file that you can later just call in $\\LaTeX$. I thought of this option given that the examples you provided me were based on the $\\LaTeX$ package called *pgfplots*, which is required to be loaded in\n",
    "your document and loads *tikz* by itself. This option gives you freedom to customize your graphics's style and make changes without manipulating a rigid code in *tikz* manually. Also, given that one of the goals of this task is to achieve better-looking versions of the graphs, this one can be combined with packages like *Seaborn* to give them a ggplot2 style or a similar one available in it. \n",
    "\n",
    "The second one also requires to load *pgfplots* in $\\LaTeX$. In this option we create a plot template in *tikz* (which would be completely rigid and difficult to modify for style changes), then fill it with the data in Python (which is kind of complicated given it's output is needed to be text) and then export it to a .txt file, then change the extension to .tex. The other approach to this option is to create a plot template in $\\LaTeX$ and just change the dataset in the document calling it from the files in Overleaf or your offline files in case you use MikTeX or similar programs. It would be easier but it wouldn't be possible to generate a specific .tex file for each graph to just call it in the document. If we take into account that this one requires *pgfplots* as well as option 1, I would recommend the latter which is more automatic and easier, nevertheless, it's a pretty much viable option. \n",
    "\n",
    "The third and last one is to code a *tikz* template from scratch without *pgfplots*. It'll be tedious and inefficient given that I suppose you're already using *pgfplots* in your documents, so I'll proceed with option 1, but please feel free to tell me to code the other options, I'm already familiarized with option 1 and 2. "
   ]
  },
  {
   "cell_type": "markdown",
   "metadata": {},
   "source": [
    "First, we have to make sure you have the needed Python packages, so we proceed to install them in case you don't have them already. "
   ]
  },
  {
   "cell_type": "code",
   "execution_count": 1,
   "metadata": {},
   "outputs": [
    {
     "name": "stdout",
     "output_type": "stream",
     "text": [
      "Requirement already satisfied: tikzplotlib in c:\\users\\igna9\\appdata\\roaming\\python\\python37\\site-packages (0.9.1)\n",
      "Requirement already satisfied: numpy in c:\\program files\\anaconda3\\lib\\site-packages (from tikzplotlib) (1.18.1)\n",
      "Requirement already satisfied: matplotlib>=1.4.0 in c:\\program files\\anaconda3\\lib\\site-packages (from tikzplotlib) (3.1.3)\n",
      "Requirement already satisfied: Pillow in c:\\program files\\anaconda3\\lib\\site-packages (from tikzplotlib) (7.0.0)\n",
      "Requirement already satisfied: cycler>=0.10 in c:\\program files\\anaconda3\\lib\\site-packages (from matplotlib>=1.4.0->tikzplotlib) (0.10.0)\n",
      "Requirement already satisfied: kiwisolver>=1.0.1 in c:\\program files\\anaconda3\\lib\\site-packages (from matplotlib>=1.4.0->tikzplotlib) (1.1.0)\n",
      "Requirement already satisfied: pyparsing!=2.0.4,!=2.1.2,!=2.1.6,>=2.0.1 in c:\\program files\\anaconda3\\lib\\site-packages (from matplotlib>=1.4.0->tikzplotlib) (2.4.6)\n",
      "Requirement already satisfied: python-dateutil>=2.1 in c:\\program files\\anaconda3\\lib\\site-packages (from matplotlib>=1.4.0->tikzplotlib) (2.8.1)\n",
      "Requirement already satisfied: six in c:\\program files\\anaconda3\\lib\\site-packages (from cycler>=0.10->matplotlib>=1.4.0->tikzplotlib) (1.14.0)\n",
      "Requirement already satisfied: setuptools in c:\\program files\\anaconda3\\lib\\site-packages (from kiwisolver>=1.0.1->matplotlib>=1.4.0->tikzplotlib) (46.1.3.post20200330)\n",
      "Requirement already satisfied: numpy in c:\\program files\\anaconda3\\lib\\site-packages (1.18.1)\n",
      "Requirement already satisfied: matplotlib in c:\\program files\\anaconda3\\lib\\site-packages (3.1.3)\n",
      "Requirement already satisfied: python-dateutil>=2.1 in c:\\program files\\anaconda3\\lib\\site-packages (from matplotlib) (2.8.1)\n",
      "Requirement already satisfied: cycler>=0.10 in c:\\program files\\anaconda3\\lib\\site-packages (from matplotlib) (0.10.0)\n",
      "Requirement already satisfied: numpy>=1.11 in c:\\program files\\anaconda3\\lib\\site-packages (from matplotlib) (1.18.1)\n",
      "Requirement already satisfied: pyparsing!=2.0.4,!=2.1.2,!=2.1.6,>=2.0.1 in c:\\program files\\anaconda3\\lib\\site-packages (from matplotlib) (2.4.6)\n",
      "Requirement already satisfied: kiwisolver>=1.0.1 in c:\\program files\\anaconda3\\lib\\site-packages (from matplotlib) (1.1.0)\n",
      "Requirement already satisfied: six>=1.5 in c:\\program files\\anaconda3\\lib\\site-packages (from python-dateutil>=2.1->matplotlib) (1.14.0)\n",
      "Requirement already satisfied: setuptools in c:\\program files\\anaconda3\\lib\\site-packages (from kiwisolver>=1.0.1->matplotlib) (46.1.3.post20200330)\n",
      "Requirement already satisfied: pandas in c:\\program files\\anaconda3\\lib\\site-packages (1.0.3)\n",
      "Requirement already satisfied: pytz>=2017.2 in c:\\program files\\anaconda3\\lib\\site-packages (from pandas) (2019.3)\n",
      "Requirement already satisfied: numpy>=1.13.3 in c:\\program files\\anaconda3\\lib\\site-packages (from pandas) (1.18.1)\n",
      "Requirement already satisfied: python-dateutil>=2.6.1 in c:\\program files\\anaconda3\\lib\\site-packages (from pandas) (2.8.1)\n",
      "Requirement already satisfied: six>=1.5 in c:\\program files\\anaconda3\\lib\\site-packages (from python-dateutil>=2.6.1->pandas) (1.14.0)\n"
     ]
    }
   ],
   "source": [
    "!pip install tikzplotlib --user\n",
    "!pip install numpy --user\n",
    "!pip install matplotlib --user\n",
    "!pip install pandas --user"
   ]
  },
  {
   "cell_type": "markdown",
   "metadata": {},
   "source": [
    "Now, we import the required packages and a similar style to the one presented in the example"
   ]
  },
  {
   "cell_type": "code",
   "execution_count": 2,
   "metadata": {},
   "outputs": [],
   "source": [
    "import pandas as pd\n",
    "import numpy as np\n",
    "import matplotlib.pyplot as plt"
   ]
  },
  {
   "cell_type": "markdown",
   "metadata": {},
   "source": [
    "We load the event-study coefficients dataset. This command assumes the dataset it's located in the same folder as this Jupyter notebook. "
   ]
  },
  {
   "cell_type": "code",
   "execution_count": 3,
   "metadata": {},
   "outputs": [],
   "source": [
    "df = pd.read_csv('coeff.csv', sep = ',')"
   ]
  },
  {
   "cell_type": "code",
   "execution_count": 4,
   "metadata": {},
   "outputs": [
    {
     "data": {
      "text/html": [
       "<div>\n",
       "<style scoped>\n",
       "    .dataframe tbody tr th:only-of-type {\n",
       "        vertical-align: middle;\n",
       "    }\n",
       "\n",
       "    .dataframe tbody tr th {\n",
       "        vertical-align: top;\n",
       "    }\n",
       "\n",
       "    .dataframe thead th {\n",
       "        text-align: right;\n",
       "    }\n",
       "</style>\n",
       "<table border=\"1\" class=\"dataframe\">\n",
       "  <thead>\n",
       "    <tr style=\"text-align: right;\">\n",
       "      <th></th>\n",
       "      <th>time</th>\n",
       "      <th>coeff</th>\n",
       "      <th>se</th>\n",
       "    </tr>\n",
       "  </thead>\n",
       "  <tbody>\n",
       "    <tr>\n",
       "      <th>0</th>\n",
       "      <td>-12</td>\n",
       "      <td>0.005</td>\n",
       "      <td>0.010</td>\n",
       "    </tr>\n",
       "    <tr>\n",
       "      <th>1</th>\n",
       "      <td>-11</td>\n",
       "      <td>0.002</td>\n",
       "      <td>0.015</td>\n",
       "    </tr>\n",
       "    <tr>\n",
       "      <th>2</th>\n",
       "      <td>-10</td>\n",
       "      <td>0.004</td>\n",
       "      <td>0.001</td>\n",
       "    </tr>\n",
       "    <tr>\n",
       "      <th>3</th>\n",
       "      <td>-9</td>\n",
       "      <td>0.003</td>\n",
       "      <td>0.008</td>\n",
       "    </tr>\n",
       "    <tr>\n",
       "      <th>4</th>\n",
       "      <td>-8</td>\n",
       "      <td>0.002</td>\n",
       "      <td>0.007</td>\n",
       "    </tr>\n",
       "    <tr>\n",
       "      <th>5</th>\n",
       "      <td>-7</td>\n",
       "      <td>0.001</td>\n",
       "      <td>0.004</td>\n",
       "    </tr>\n",
       "    <tr>\n",
       "      <th>6</th>\n",
       "      <td>-6</td>\n",
       "      <td>0.005</td>\n",
       "      <td>0.005</td>\n",
       "    </tr>\n",
       "    <tr>\n",
       "      <th>7</th>\n",
       "      <td>-5</td>\n",
       "      <td>0.004</td>\n",
       "      <td>0.004</td>\n",
       "    </tr>\n",
       "    <tr>\n",
       "      <th>8</th>\n",
       "      <td>-4</td>\n",
       "      <td>0.002</td>\n",
       "      <td>0.003</td>\n",
       "    </tr>\n",
       "    <tr>\n",
       "      <th>9</th>\n",
       "      <td>-3</td>\n",
       "      <td>0.005</td>\n",
       "      <td>0.008</td>\n",
       "    </tr>\n",
       "    <tr>\n",
       "      <th>10</th>\n",
       "      <td>-2</td>\n",
       "      <td>0.002</td>\n",
       "      <td>0.003</td>\n",
       "    </tr>\n",
       "    <tr>\n",
       "      <th>11</th>\n",
       "      <td>-1</td>\n",
       "      <td>0.000</td>\n",
       "      <td>0.000</td>\n",
       "    </tr>\n",
       "    <tr>\n",
       "      <th>12</th>\n",
       "      <td>0</td>\n",
       "      <td>0.001</td>\n",
       "      <td>0.025</td>\n",
       "    </tr>\n",
       "    <tr>\n",
       "      <th>13</th>\n",
       "      <td>1</td>\n",
       "      <td>0.004</td>\n",
       "      <td>0.026</td>\n",
       "    </tr>\n",
       "    <tr>\n",
       "      <th>14</th>\n",
       "      <td>2</td>\n",
       "      <td>0.009</td>\n",
       "      <td>0.027</td>\n",
       "    </tr>\n",
       "    <tr>\n",
       "      <th>15</th>\n",
       "      <td>3</td>\n",
       "      <td>0.016</td>\n",
       "      <td>0.028</td>\n",
       "    </tr>\n",
       "    <tr>\n",
       "      <th>16</th>\n",
       "      <td>4</td>\n",
       "      <td>0.025</td>\n",
       "      <td>0.030</td>\n",
       "    </tr>\n",
       "    <tr>\n",
       "      <th>17</th>\n",
       "      <td>5</td>\n",
       "      <td>0.036</td>\n",
       "      <td>0.032</td>\n",
       "    </tr>\n",
       "    <tr>\n",
       "      <th>18</th>\n",
       "      <td>6</td>\n",
       "      <td>0.049</td>\n",
       "      <td>0.035</td>\n",
       "    </tr>\n",
       "    <tr>\n",
       "      <th>19</th>\n",
       "      <td>7</td>\n",
       "      <td>0.064</td>\n",
       "      <td>0.038</td>\n",
       "    </tr>\n",
       "    <tr>\n",
       "      <th>20</th>\n",
       "      <td>8</td>\n",
       "      <td>0.081</td>\n",
       "      <td>0.041</td>\n",
       "    </tr>\n",
       "    <tr>\n",
       "      <th>21</th>\n",
       "      <td>9</td>\n",
       "      <td>0.100</td>\n",
       "      <td>0.045</td>\n",
       "    </tr>\n",
       "    <tr>\n",
       "      <th>22</th>\n",
       "      <td>10</td>\n",
       "      <td>0.121</td>\n",
       "      <td>0.049</td>\n",
       "    </tr>\n",
       "    <tr>\n",
       "      <th>23</th>\n",
       "      <td>11</td>\n",
       "      <td>0.144</td>\n",
       "      <td>0.054</td>\n",
       "    </tr>\n",
       "    <tr>\n",
       "      <th>24</th>\n",
       "      <td>12</td>\n",
       "      <td>0.169</td>\n",
       "      <td>0.059</td>\n",
       "    </tr>\n",
       "  </tbody>\n",
       "</table>\n",
       "</div>"
      ],
      "text/plain": [
       "    time  coeff     se\n",
       "0    -12  0.005  0.010\n",
       "1    -11  0.002  0.015\n",
       "2    -10  0.004  0.001\n",
       "3     -9  0.003  0.008\n",
       "4     -8  0.002  0.007\n",
       "5     -7  0.001  0.004\n",
       "6     -6  0.005  0.005\n",
       "7     -5  0.004  0.004\n",
       "8     -4  0.002  0.003\n",
       "9     -3  0.005  0.008\n",
       "10    -2  0.002  0.003\n",
       "11    -1  0.000  0.000\n",
       "12     0  0.001  0.025\n",
       "13     1  0.004  0.026\n",
       "14     2  0.009  0.027\n",
       "15     3  0.016  0.028\n",
       "16     4  0.025  0.030\n",
       "17     5  0.036  0.032\n",
       "18     6  0.049  0.035\n",
       "19     7  0.064  0.038\n",
       "20     8  0.081  0.041\n",
       "21     9  0.100  0.045\n",
       "22    10  0.121  0.049\n",
       "23    11  0.144  0.054\n",
       "24    12  0.169  0.059"
      ]
     },
     "execution_count": 4,
     "metadata": {},
     "output_type": "execute_result"
    }
   ],
   "source": [
    "df"
   ]
  },
  {
   "cell_type": "markdown",
   "metadata": {},
   "source": [
    "Now, we proceed to plot. We declare the x, y variables to plot the line, then plot the confidence interval by specifying the error variable and drawing the line inbetween these data points. Take into account the plotter assumes the errors are symmetrical, if this is not the case, you've got to define separate variables for the upper and lower limits and specify it in the errorbar plot. Finally, we label the axis. Please, specify in the next variable what do this coefficients correspond to, i.e.: sales, employment, etc. Also, how frequently spaced you want the variable to be. "
   ]
  },
  {
   "cell_type": "code",
   "execution_count": 5,
   "metadata": {},
   "outputs": [],
   "source": [
    "coefficients = 'Sales'\n",
    "xticksfrequency = 2"
   ]
  },
  {
   "cell_type": "code",
   "execution_count": 7,
   "metadata": {},
   "outputs": [
    {
     "data": {
      "image/png": "[encoded data removed]",
      "text/plain": [
       "<Figure size 432x288 with 1 Axes>"
      ]
     },
     "metadata": {
      "needs_background": "light"
     },
     "output_type": "display_data"
    }
   ],
   "source": [
    "plt.axhline(y=0, color='r', linestyle='-', linewidth = 1) #We create a vertical black dashed line at 0 as showed in the example. \n",
    "plt.axvline(x=0, color='black', linestyle='--', linewidth = 1) # We create a horizontal red line at the origin as showed in the example.\n",
    "plt.errorbar(df['time'], df['coeff'], fmt='o', yerr = df['se']) # (x, y, circles, standard error)\n",
    "plt.grid(True, which='major', axis='y') # Optional horizontal lines\n",
    "plt.xlabel('Years Since First MNC Interaction')\n",
    "plt.ylabel('Coefficients: {}'.format(coefficients))\n",
    "plt.xticks(np.arange(min(df['time']), max(df['time']) + 1, xticksfrequency))\n",
    "\n",
    "import tikzplotlib\n",
    "\n",
    "tikzplotlib.save(\"Event-study coefficients_ {}.tex\".format(coefficients))"
   ]
  }
 ],
 "metadata": {
  "kernelspec": {
   "display_name": "Python 3",
   "language": "python",
   "name": "python3"
  },
  "language_info": {
   "codemirror_mode": {
    "name": "ipython",
    "version": 3
   },
   "file_extension": ".py",
   "mimetype": "text/x-python",
   "name": "python",
   "nbconvert_exporter": "python",
   "pygments_lexer": "ipython3",
   "version": "3.7.7"
  }
 },
 "nbformat": 4,
 "nbformat_minor": 4
}
