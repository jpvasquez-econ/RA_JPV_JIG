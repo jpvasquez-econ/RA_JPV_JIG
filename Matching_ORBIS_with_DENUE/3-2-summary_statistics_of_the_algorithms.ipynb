{
 "cells": [
  {
   "cell_type": "markdown",
   "metadata": {},
   "source": [
    "# Summary statistics"
   ]
  },
  {
   "cell_type": "markdown",
   "metadata": {},
   "source": [
    "# General information\n",
    "The goal of this file is to get summary statistics of the matches obtained. \n",
    "\n",
    "The statistics expected to get are: \n",
    "\n",
    "- Number of matches of top quality. \n",
    "- Number of uncertain matches. \n",
    "- Total matches. \n",
    "- Firms that didn't get a single match. \n",
    "- Total firms in ORBIS. \n",
    "\n",
    "These statistics will be disaggregated by: \n",
    "- Entity. \n",
    "- DENUE's version. \n",
    "- Algorithm. \n",
    "- Accuracy of the match. \n",
    "- Number of workers. "
   ]
  },
  {
   "cell_type": "markdown",
   "metadata": {},
   "source": [
    "# Input files\n",
    "1. **orbis_final:** `'/scratch/public/jpvasquez/MNCs_informality/Intermediate_data/output/orbis_final.csv'` This file contains a data set where each row represents a firm with one of their names associated, also, entity, municipality and ORBIS's BVDID number.\n",
    "2. **final_matches:** `'/scratch/public/jpvasquez/MNCs_informality/Final_data/output/final_matches.csv'` This file contains a dataset where each row represents a match between a firm in ORBIS and another one in DENUE. This set contains matches obtained with both algorithms and in both versions of DENUE. 2. **final_matches:** `'/scratch/public/jpvasquez/MNCs_informality/Final_data/output/final_matches.csv'` This file contains a dataset where each row represents a match between a firm in ORBIS and another one in DENUE. This set contains matches obtained with both algorithms and in both versions of DENUE. "
   ]
  },
  {
   "cell_type": "code",
   "execution_count": 1,
   "metadata": {},
   "outputs": [],
   "source": [
    "orbis_final_filename = '/scratch/public/jpvasquez/MNCs_informality/Intermediate_data/output/orbis_final.csv'\n",
    "final_matches_filename = '/scratch/public/jpvasquez/MNCs_informality/Final_data/output/3-1-5-final_matches.csv'"
   ]
  },
  {
   "cell_type": "markdown",
   "metadata": {},
   "source": [
    "# Output files\n",
    "1. **summary_file:** `'/scratch/public/jpvasquez/MNCs_informality/Final_data/output/3-2-summary.xlsx'` These files contain summary statistics by entity of all the matches that were kept along the process. "
   ]
  },
  {
   "cell_type": "code",
   "execution_count": 2,
   "metadata": {},
   "outputs": [],
   "source": [
    "output_file_prefix = '/scratch/public/jpvasquez/MNCs_informality/Final_data/output/3-2-summary.xlsx'"
   ]
  },
  {
   "cell_type": "markdown",
   "metadata": {},
   "source": [
    "# Packages\n",
    "These are the needed packages to run this code. In case, the machine you're running this in doesn't have any of these packages, run this code: \n",
    "\n",
    "`!pip install package_name`\n",
    "\n",
    "- **Pandas** is the package which handles importing, wrangling, cleaning and doing everything with the data. \n",
    "- **Glob** gets all the files from a directory with a prefix. "
   ]
  },
  {
   "cell_type": "code",
   "execution_count": 3,
   "metadata": {},
   "outputs": [],
   "source": [
    "import glob\n",
    "import pandas as pd"
   ]
  },
  {
   "cell_type": "markdown",
   "metadata": {},
   "source": [
    "# Importing the data"
   ]
  },
  {
   "cell_type": "code",
   "execution_count": 4,
   "metadata": {
    "scrolled": true
   },
   "outputs": [],
   "source": [
    "orbis_final = pd.read_csv(orbis_final_filename)\n",
    "final_matches = pd.read_csv(final_matches_filename)"
   ]
  },
  {
   "cell_type": "markdown",
   "metadata": {},
   "source": [
    "# Selecting the variables of interest for the summary statistics"
   ]
  },
  {
   "cell_type": "code",
   "execution_count": 5,
   "metadata": {},
   "outputs": [],
   "source": [
    "final_matches = final_matches[['algorithm', 'version', 'entidad_x', 'accuracy', 'n_workers', 'bvdidnumber']].copy()"
   ]
  },
  {
   "cell_type": "markdown",
   "metadata": {},
   "source": [
    "# Select the strongest match\n",
    "For each firm in ORBIS, when there are multiple matches some of them are top quality, others uncertain; some have a lot of employees, some just a few. So, in order to get the statistics right, we'll say a firm in ORBIS has a match of certain characteristics accounting for the match with the largest number of employees and then, we determine the highest quality match with that range of employees. "
   ]
  },
  {
   "cell_type": "markdown",
   "metadata": {},
   "source": [
    "## Encode the variables"
   ]
  },
  {
   "cell_type": "code",
   "execution_count": 6,
   "metadata": {},
   "outputs": [],
   "source": [
    "final_matches['accuracy_n'] = final_matches['accuracy'].map({'top': 2, \n",
    "                                                             'uncertain': 1})"
   ]
  },
  {
   "cell_type": "markdown",
   "metadata": {},
   "source": [
    "## Keep the best match (this is just for the statistics)"
   ]
  },
  {
   "cell_type": "code",
   "execution_count": 7,
   "metadata": {},
   "outputs": [],
   "source": [
    "final_matches = (final_matches\n",
    "                 .sort_values(['n_workers', 'accuracy_n'], ascending = False) # sort the matches\n",
    "                 .drop_duplicates(['algorithm', 'version', 'entidad_x', 'bvdidnumber'], # drop the duplicates\n",
    "                                  ignore_index = True, keep = 'first')) # keep the strongest one"
   ]
  },
  {
   "cell_type": "markdown",
   "metadata": {},
   "source": [
    "# Getting the actual statistics"
   ]
  },
  {
   "cell_type": "markdown",
   "metadata": {},
   "source": [
    "## Calculating them"
   ]
  },
  {
   "cell_type": "code",
   "execution_count": 8,
   "metadata": {},
   "outputs": [],
   "source": [
    "final_matches_entidad = (final_matches\n",
    "                         .value_counts(['entidad_x', 'version', \n",
    "                                        'algorithm', 'accuracy', 'n_workers'])\n",
    "                         .reset_index()) # getting disaggregated statistics\n",
    "final_matches_all = (final_matches\n",
    "                     .value_counts(['entidad_x', 'version', 'algorithm'])\n",
    "                     .reset_index()) # statistics of total firms that matched\n",
    "final_matches_all['accuracy'] = 'all' # adapting the dataframe to merge\n",
    "final_matches_all['n_workers'] = 999\n",
    "orbis_final = (orbis_final[['entidad', 'bvdidnumber']]\n",
    "               .value_counts(['entidad']) # total firms in ORBIS by entity\n",
    "               .reset_index()\n",
    "               .rename(columns = {\"entidad\": \"entidad_x\"}))\n",
    "orbis_final['version'] = 'orbis_total' # adapting the dataframe to merge\n",
    "orbis_final['algorithm'] = 'orbis_total'\n",
    "orbis_final['accuracy'] = 'orbis_total'\n",
    "orbis_final['n_workers'] = 999"
   ]
  },
  {
   "cell_type": "markdown",
   "metadata": {},
   "source": [
    "## Joining the statistics"
   ]
  },
  {
   "cell_type": "code",
   "execution_count": 9,
   "metadata": {},
   "outputs": [],
   "source": [
    "final_matches = pd.concat([final_matches_entidad, final_matches_all, orbis_final], ignore_index = True)"
   ]
  },
  {
   "cell_type": "markdown",
   "metadata": {},
   "source": [
    "# Saving the statistics by entity\n",
    "This is an Excel file, where each sheet gives the statistics for a specific entity. "
   ]
  },
  {
   "cell_type": "code",
   "execution_count": 10,
   "metadata": {},
   "outputs": [],
   "source": [
    "with pd.ExcelWriter(output_file_prefix, engine = 'xlsxwriter') as writer:  \n",
    "    for group, df in final_matches.groupby(['entidad_x']): # by entity\n",
    "        df.to_excel(writer, sheet_name = group, index = True) # save one sheet per entity"
   ]
  }
 ],
 "metadata": {
  "kernelspec": {
   "display_name": "Python 3",
   "language": "python",
   "name": "python3"
  },
  "language_info": {
   "codemirror_mode": {
    "name": "ipython",
    "version": 3
   },
   "file_extension": ".py",
   "mimetype": "text/x-python",
   "name": "python",
   "nbconvert_exporter": "python",
   "pygments_lexer": "ipython3",
   "version": "3.7.0"
  }
 },
 "nbformat": 4,
 "nbformat_minor": 2
}
