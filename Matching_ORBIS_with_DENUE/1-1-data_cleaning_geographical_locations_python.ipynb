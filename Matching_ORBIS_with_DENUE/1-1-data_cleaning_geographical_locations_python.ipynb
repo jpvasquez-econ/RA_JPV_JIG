{
 "cells": [
  {
   "cell_type": "markdown",
   "metadata": {},
   "source": [
    "# Filtering all the possible geographical combinations in `zip_codes`, `orbis` and `denue`"
   ]
  },
  {
   "cell_type": "markdown",
   "metadata": {},
   "source": [
    "# General information\n",
    "The main objective of this code is to get all the tuples of the form (`entity`, `municipality`, `postcode`) from `zip_codes`, `orbis` and `denue`. \n",
    "Other steps involved in this process specifically for `zip_codes` are: \n",
    "\n",
    "- Cleaning the names, removing accents, accents, double spaces and replacing the spaces with low dashes. \n",
    "- Renaming columns. \n",
    "- Getting the unique combinations. \n",
    "- Exporting the result to a Comma Separated Values file. "
   ]
  },
  {
   "cell_type": "markdown",
   "metadata": {},
   "source": [
    "# Input files\n",
    "1. **zip_codes_file:** `'/scratch/public/jpvasquez/MNCs_informality/Raw_data/ORBIS/zip_codes.txt'` This file contains all the geographical zones of México, with a possible zip code, municipality, entity, suburbs, zip codes and other variables both in string and numerical codes. \n",
    "2. **orbis_file:** `'/scratch/public/jpvasquez/MNCs_informality/Raw_data/ORBIS/Orbis_for_Denue_merge.dta'` This file contains a list of Multinational Companies in México with their locations, names and Bureau van Dijk ID number. \n",
    "3. **denue_file:**  `'/scratch/public/jpvasquez/MNCs_informality/Raw_data/DENUE/output/denue_version_d.csv'` This file contains all the formal and informal companies in México, registered in Directorio Nacional Estadístico with their complete geographical zone data, company names and business names (razones sociales) and DENUE's key. "
   ]
  },
  {
   "cell_type": "code",
   "execution_count": 1,
   "metadata": {},
   "outputs": [],
   "source": [
    "zip_codes_file = '/scratch/public/jpvasquez/MNCs_informality/Raw_data/ORBIS/zip_codes.txt'\n",
    "orbis_file = '/scratch/public/jpvasquez/MNCs_informality/Raw_data/ORBIS/Orbis_for_Denue_merge.dta'\n",
    "denue_file = '/scratch/public/jpvasquez/MNCs_informality/Raw_data/DENUE/output/denue_version_both.csv'"
   ]
  },
  {
   "cell_type": "markdown",
   "metadata": {},
   "source": [
    "# Output files\n",
    "1. **zip_codes_clean:** `'/scratch/public/jpvasquez/MNCs_informality/Raw_data/ORBIS/zip_codes_clean.csv'` `zip_codes` with all their variables cleaned. \n",
    "2. **zip_codes_municipios:** `'/scratch/public/jpvasquez/MNCs_informality/Raw_data/ORBIS/zip_codes_municipios.csv'` Unique ntity, municipality and zip code tuples registered in México. \n",
    "3. **orbis_municipios:** `'/scratch/public/jpvasquez/MNCs_informality/Intermediate_data/output/orbis_municipios.csv'` Unique ntity, municipality and zip code tuples obtained from the firms registered in ORBIS. \n",
    "4. **denue_municipios:** `'/scratch/public/jpvasquez/MNCs_informality/Intermediate_data/output/denue_municipios.csv'` Unique ntity and municipality tuples from the firms registered in DENUE. "
   ]
  },
  {
   "cell_type": "code",
   "execution_count": 2,
   "metadata": {},
   "outputs": [],
   "source": [
    "zip_codes_clean = '/scratch/public/jpvasquez/MNCs_informality/Intermediate_data/output/zip_codes_clean.csv'\n",
    "zip_codes_municipios = '/scratch/public/jpvasquez/MNCs_informality/Intermediate_data/output/zip_codes_municipios.csv'\n",
    "orbis_municipios = '/scratch/public/jpvasquez/MNCs_informality/Intermediate_data/output/orbis_municipios.csv'\n",
    "denue_municipios = '/scratch/public/jpvasquez/MNCs_informality/Intermediate_data/output/denue_municipios.csv'"
   ]
  },
  {
   "cell_type": "markdown",
   "metadata": {},
   "source": [
    "# Packages\n",
    "These are the needed packages to run this code. In case, the machine you're running this in doesn't have any of these packages, run this code: \n",
    "\n",
    "`!pip install package_name`\n",
    "\n",
    "**Pandas** is the package which handles importing, wrangling, cleaning and doing everything with the data. "
   ]
  },
  {
   "cell_type": "code",
   "execution_count": 3,
   "metadata": {},
   "outputs": [],
   "source": [
    "import pandas as pd"
   ]
  },
  {
   "cell_type": "markdown",
   "metadata": {},
   "source": [
    "# Importing the data"
   ]
  },
  {
   "cell_type": "code",
   "execution_count": 4,
   "metadata": {},
   "outputs": [],
   "source": [
    "zip_codes = pd.read_csv(zip_codes_file, sep = \"|\", encoding='cp1252')\n",
    "orbis = pd.read_stata(orbis_file)\n",
    "denue = pd.read_csv(denue_file, engine='python')"
   ]
  },
  {
   "cell_type": "markdown",
   "metadata": {},
   "source": [
    "# Cleaning the data"
   ]
  },
  {
   "cell_type": "markdown",
   "metadata": {},
   "source": [
    "## Preparing geographical information for analysis\n",
    "For `zip_codes` and `orbis`, for each observation, we'll clean all the string variables. First, remove accents or non-english characters. Second, replace caps for lower characters in strings. Third, remove multiple spaces. Fourth, replace space with \\_. "
   ]
  },
  {
   "cell_type": "code",
   "execution_count": 5,
   "metadata": {},
   "outputs": [],
   "source": [
    "dfs = [zip_codes, orbis]\n",
    "\n",
    "for df in dfs:\n",
    "    for column in df.select_dtypes(include = 'object'):\n",
    "        df[column] = (df[column].str.normalize('NFKD') # Removing\n",
    "                             .str.encode('ascii', errors='ignore') # the \n",
    "                             .str.decode('utf-8') # accents\n",
    "                             .str.lower() # remove the caps\n",
    "                             .str.strip() # remove multiple spaces\n",
    "                             .str.replace(\" \", \"_\")) # change spaces for lower dashes"
   ]
  },
  {
   "cell_type": "markdown",
   "metadata": {},
   "source": [
    "## Dropping unnecesary variables"
   ]
  },
  {
   "cell_type": "code",
   "execution_count": 6,
   "metadata": {},
   "outputs": [],
   "source": [
    "zip_codes = zip_codes.drop(columns = 'c_CP')"
   ]
  },
  {
   "cell_type": "markdown",
   "metadata": {},
   "source": [
    "## Making sure every variable name is lower instead of capitalized"
   ]
  },
  {
   "cell_type": "code",
   "execution_count": 7,
   "metadata": {},
   "outputs": [],
   "source": [
    "zip_codes = zip_codes.rename(columns = {'D_mnpio': 'd_mnpio', \n",
    "                                        'd_CP': 'd_cp'})"
   ]
  },
  {
   "cell_type": "markdown",
   "metadata": {},
   "source": [
    "# Preparing ORBIS dataset"
   ]
  },
  {
   "cell_type": "markdown",
   "metadata": {},
   "source": [
    "## Reshaping the data\n",
    "We reshape from wide to long using `city` and `region` variables. "
   ]
  },
  {
   "cell_type": "code",
   "execution_count": 8,
   "metadata": {},
   "outputs": [],
   "source": [
    "orbis = (pd.wide_to_long(orbis, \n",
    "                         stubnames = ['postcode', 'city', 'region'], \n",
    "                         i = 'bvdidnumber', j = 'n')\n",
    "         .reset_index())"
   ]
  },
  {
   "cell_type": "markdown",
   "metadata": {},
   "source": [
    "# Saving the corresponding data sets"
   ]
  },
  {
   "cell_type": "markdown",
   "metadata": {},
   "source": [
    "## Saving the clean complete data set"
   ]
  },
  {
   "cell_type": "code",
   "execution_count": 9,
   "metadata": {
    "scrolled": true
   },
   "outputs": [],
   "source": [
    "zip_codes.to_csv(zip_codes_clean, index=False)"
   ]
  },
  {
   "cell_type": "markdown",
   "metadata": {},
   "source": [
    "## Saving the selected variables needed for recoding the other data sets\n",
    "First, we select the variables of interest. Then, we know that in those tuples there are duplicates, so we drop them. Finally, we save the data set to the assigned location. "
   ]
  },
  {
   "cell_type": "code",
   "execution_count": 10,
   "metadata": {
    "scrolled": true
   },
   "outputs": [],
   "source": [
    "# selecting variables of interest\n",
    "zip_codes = zip_codes[['d_estado', 'd_mnpio', 'd_cp']].copy()\n",
    "orbis = orbis[['region', 'city', 'postcode']].copy()\n",
    "denue = denue[['entidad', 'municipio']].copy()\n",
    "\n",
    "# databases and locations's lists to iterate over\n",
    "databases = [zip_codes, orbis, denue]\n",
    "locations = [zip_codes_municipios, orbis_municipios, denue_municipios]\n",
    "\n",
    "for i, j in zip(databases, locations): \n",
    "    (i.drop_duplicates(ignore_index = True) # dropping duplicates\n",
    "     .to_csv(j, index=False)) # saving the data set"
   ]
  }
 ],
 "metadata": {
  "kernelspec": {
   "display_name": "Python 3",
   "language": "python",
   "name": "python3"
  },
  "language_info": {
   "codemirror_mode": {
    "name": "ipython",
    "version": 3
   },
   "file_extension": ".py",
   "mimetype": "text/x-python",
   "name": "python",
   "nbconvert_exporter": "python",
   "pygments_lexer": "ipython3",
   "version": "3.7.0"
  }
 },
 "nbformat": 4,
 "nbformat_minor": 4
}
