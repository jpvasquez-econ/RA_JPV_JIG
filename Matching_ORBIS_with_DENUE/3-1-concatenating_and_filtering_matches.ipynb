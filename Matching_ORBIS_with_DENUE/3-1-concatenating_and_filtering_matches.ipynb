{
 "cells": [
  {
   "cell_type": "markdown",
   "metadata": {},
   "source": [
    "# Joining and selecting the matches"
   ]
  },
  {
   "cell_type": "markdown",
   "metadata": {},
   "source": [
    "# General information\n",
    "This notebook joins all the matches from `matches_tf_idf` and `matches_rapidfuzz` files, recodes multiple variables and saves subsets by algorithm and DENUE's version of all the matches found. Also, merges the original names (before cleaning them) to each match. "
   ]
  },
  {
   "cell_type": "markdown",
   "metadata": {},
   "source": [
    "# Input files\n",
    "1. **rapidfuzz_file_prefix:** `'/scratch/public/jpvasquez/MNCs_informality/Final_data/output/2-2-'` These files contain the matches found with the Rapidfuzz algorithm between firm names of DENUE and ORBIS.\n",
    "2. **tf_idf_file_prefix:** `'/scratch/public/jpvasquez/MNCs_informality/Final_data/output/2-1-'` These files contain the matches found with the TF-IDF algorithm between firm names of DENUE and ORBIS.\n",
    "3. **denue_names:** `'/scratch/public/jpvasquez/MNCs_informality/Intermediate_data/output/denue_names.csv'` This file contains a dataset where each row represents a firm with all of their original names associated attached to a DENUE's key. This file is for DENUE's original version. \n",
    "4. **denue_alternative_names:** `'/scratch/public/jpvasquez/MNCs_informality/Intermediate_data/output/denue_alternative_names.csv'` This file contains a dataset where each row represents a firm with all of their original names associated attached to a DENUE's key. This file is for DENUE's alternative version. "
   ]
  },
  {
   "cell_type": "code",
   "execution_count": 1,
   "metadata": {},
   "outputs": [],
   "source": [
    "rapidfuzz_file_prefix = '/scratch/public/jpvasquez/MNCs_informality/Final_data/output/2-2-'\n",
    "tf_idf_file_prefix = '/scratch/public/jpvasquez/MNCs_informality/Final_data/output/2-1-'\n",
    "denue_names_file = '/scratch/public/jpvasquez/MNCs_informality/Intermediate_data/output/denue_names.csv'\n",
    "denue_alternative_names_file = '/scratch/public/jpvasquez/MNCs_informality/Intermediate_data/output/denue_alternative_names.csv'"
   ]
  },
  {
   "cell_type": "markdown",
   "metadata": {},
   "source": [
    "# Output files\n",
    "1. **#-final_matches_prefix:** `'/scratch/public/jpvasquez/MNCs_informality/Final_data/output/both_entity_municipality/denue/tf-idf/3-1-#-final_matches_*'` These files contain the final matches for each algorithm and DENUE's version. "
   ]
  },
  {
   "cell_type": "code",
   "execution_count": 2,
   "metadata": {},
   "outputs": [],
   "source": [
    "directory = '/scratch/public/jpvasquez/MNCs_informality/Final_data/output/'\n",
    "output_prefix = 'final_matches'"
   ]
  },
  {
   "cell_type": "markdown",
   "metadata": {},
   "source": [
    "# Packages\n",
    "These are the needed packages to run this code. In case, the machine you're running this in doesn't have any of these packages, run this code: \n",
    "\n",
    "`!pip install package_name`\n",
    "\n",
    "- **Pandas** is the package which handles importing, wrangling, cleaning and doing everything with the data. \n",
    "- **Glob** gets all the files from a directory with a prefix. "
   ]
  },
  {
   "cell_type": "code",
   "execution_count": 3,
   "metadata": {},
   "outputs": [],
   "source": [
    "import glob\n",
    "import pandas as pd"
   ]
  },
  {
   "cell_type": "markdown",
   "metadata": {},
   "source": [
    "# Importing the data"
   ]
  },
  {
   "cell_type": "code",
   "execution_count": 4,
   "metadata": {},
   "outputs": [
    {
     "name": "stderr",
     "output_type": "stream",
     "text": [
      "/usr/local/linux/anaconda3.7/lib/python3.7/site-packages/IPython/core/interactiveshell.py:3063: DtypeWarning: Columns (11) have mixed types.Specify dtype option on import or set low_memory=False.\n",
      "  interactivity=interactivity, compiler=compiler, result=result)\n",
      "/usr/local/linux/anaconda3.7/lib/python3.7/site-packages/IPython/core/interactiveshell.py:3063: DtypeWarning: Columns (10,11,12) have mixed types.Specify dtype option on import or set low_memory=False.\n",
      "  interactivity=interactivity, compiler=compiler, result=result)\n"
     ]
    }
   ],
   "source": [
    "joint_matches_rapidfuzz = pd.concat([pd.read_csv(f) for f in glob.glob(rapidfuzz_file_prefix + '*.csv')], ignore_index = True)\n",
    "joint_matches_tf_idf = pd.concat([pd.read_csv(f) for f in glob.glob(tf_idf_file_prefix + '*.csv')], ignore_index = True)\n",
    "denue_names = pd.read_csv(denue_names_file)\n",
    "denue_alternative_names = pd.read_csv(denue_alternative_names_file)"
   ]
  },
  {
   "cell_type": "markdown",
   "metadata": {},
   "source": [
    "# Preparing the data"
   ]
  },
  {
   "cell_type": "code",
   "execution_count": 5,
   "metadata": {},
   "outputs": [],
   "source": [
    "joint_matches_rapidfuzz = joint_matches_rapidfuzz.drop(columns = ['key'])\n",
    "joint_matches_tf_idf['algorithm'] = 'tf-idf'"
   ]
  },
  {
   "cell_type": "markdown",
   "metadata": {},
   "source": [
    "## Concatenating the matches"
   ]
  },
  {
   "cell_type": "code",
   "execution_count": 6,
   "metadata": {},
   "outputs": [],
   "source": [
    "joint_matches = pd.concat([joint_matches_tf_idf, joint_matches_rapidfuzz], ignore_index = True)"
   ]
  },
  {
   "cell_type": "markdown",
   "metadata": {},
   "source": [
    "## Encoding variables to numerical ones and recoding"
   ]
  },
  {
   "cell_type": "code",
   "execution_count": 7,
   "metadata": {
    "scrolled": true
   },
   "outputs": [],
   "source": [
    "joint_matches['geozone_n'] = joint_matches['selection'].map({'both_entity_municipality': 1, \n",
    "                                                          'both_entity_municipality_alternative': 1,  \n",
    "                                                          'orbis_entity_municipality_denue_entity_big_companies': 2, \n",
    "                                                          'orbis_entity_municipality_denue_entity_big_companies_alternative': 2, \n",
    "                                                          'orbis_entity_municipality_denue': 3, \n",
    "                                                          'orbis_entity_municipality_denue_alternative': 3, \n",
    "                                                          'no_geo': 4, \n",
    "                                                          'no_geo_alternative': 4})\n",
    "joint_matches = joint_matches.rename(columns={\"selection\": \"geozone\"})\n",
    "joint_matches['version_n'] = joint_matches['geozone'].map({'both_entity_municipality': 1, \n",
    "                                                          'both_entity_municipality_alternative': 2,  \n",
    "                                                          'orbis_entity_municipality_denue_entity_big_companies': 1, \n",
    "                                                          'orbis_entity_municipality_denue_entity_big_companies_alternative': 2, \n",
    "                                                          'orbis_entity_municipality_denue': 1, \n",
    "                                                          'orbis_entity_municipality_denue_alternative': 2, \n",
    "                                                          'no_geo': 1, \n",
    "                                                          'no_geo_alternative': 2})\n",
    "joint_matches['version'] = joint_matches['geozone'].map({'both_entity_municipality': 'denue', \n",
    "                                                          'both_entity_municipality_alternative': 'denue_alternative',  \n",
    "                                                          'orbis_entity_municipality_denue_entity_big_companies': 'denue', \n",
    "                                                          'orbis_entity_municipality_denue_entity_big_companies_alternative': 'denue_alternative', \n",
    "                                                          'orbis_entity_municipality_denue': 'denue', \n",
    "                                                          'orbis_entity_municipality_denue_alternative': 'denue_alternative', \n",
    "                                                          'no_geo': 'denue', \n",
    "                                                          'no_geo_alternative': 'denue_alternative'})\n",
    "joint_matches['algorithm_n'] = joint_matches['algorithm'].map({'td-idf': 1, \n",
    "                                                              'rapidfuzz': 2})"
   ]
  },
  {
   "cell_type": "markdown",
   "metadata": {},
   "source": [
    "## Keeping the most restrictive match for each firm\n",
    "When running the algorithms, if there is a match found controlling both by entity and municipality, there'll be three duplicates in our database, because it'll be found in big companies and entity, and all DENUE. So, we keep the most restrictive match for each firm in ORBIS and matching pairs in DENUE. "
   ]
  },
  {
   "cell_type": "code",
   "execution_count": 8,
   "metadata": {},
   "outputs": [],
   "source": [
    "joint_matches = (joint_matches.sort_values(by = ['geozone_n'])\n",
    "                              .drop_duplicates(subset = ['algorithm_n', \n",
    "                                                         'version_n', \n",
    "                                                         'bvdidnumber', \n",
    "                                                         'companyname', \n",
    "                                                         'entidad_x', \n",
    "                                                         'municipio_x', \n",
    "                                                         'llave_denue', \n",
    "                                                         'n_workers', \n",
    "                                                         'entidad_y', \n",
    "                                                         'municipio_y', \n",
    "                                                         'firm', \n",
    "                                                         'elegible_2', \n",
    "                                                         'accuracy'], \n",
    "                                               ignore_index = True, \n",
    "                                               keep = 'first'))"
   ]
  },
  {
   "cell_type": "markdown",
   "metadata": {},
   "source": [
    "# Saving the matches"
   ]
  },
  {
   "cell_type": "markdown",
   "metadata": {},
   "source": [
    "## Splitting and saving the matches by algorithm and version"
   ]
  },
  {
   "cell_type": "code",
   "execution_count": 9,
   "metadata": {},
   "outputs": [],
   "source": [
    "for group, df in joint_matches.groupby(['algorithm', 'version']): \n",
    "    index_prefix = '3-1-' # common prefix\n",
    "    if group[1] == 'denue': \n",
    "        df = df.merge(denue_names, left_on = 'llave_denue', right_on = 'llave_denue', how = 'left') # attach original names\n",
    "        if group[0] == 'tf-idf': \n",
    "            index_prefix += '1-'\n",
    "        else: \n",
    "            index_prefix += '2-'\n",
    "    else: \n",
    "        df = df.merge(denue_alternative_names, left_on = 'llave_denue', right_on = 'llave_denue', how = 'left') # attach original names\n",
    "        if group[0] == 'tf-idf': \n",
    "            index_prefix += '3-'\n",
    "        else: \n",
    "            index_prefix += '4-'\n",
    "    df.to_csv(directory + index_prefix + output_prefix + '_' + group[0] + '_' + group[1] + '.csv', # save matches to .csv file\n",
    "              index = False)"
   ]
  },
  {
   "cell_type": "markdown",
   "metadata": {},
   "source": [
    "## Save all the final matches"
   ]
  },
  {
   "cell_type": "code",
   "execution_count": 10,
   "metadata": {},
   "outputs": [],
   "source": [
    "index_prefix = '3-1-5-'\n",
    "joint_matches.to_csv(directory + index_prefix + output_prefix + '.csv', index = False)"
   ]
  }
 ],
 "metadata": {
  "kernelspec": {
   "display_name": "Python 3",
   "language": "python",
   "name": "python3"
  },
  "language_info": {
   "codemirror_mode": {
    "name": "ipython",
    "version": 3
   },
   "file_extension": ".py",
   "mimetype": "text/x-python",
   "name": "python",
   "nbconvert_exporter": "python",
   "pygments_lexer": "ipython3",
   "version": "3.7.0"
  }
 },
 "nbformat": 4,
 "nbformat_minor": 2
}
